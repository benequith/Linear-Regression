{
  "nbformat": 4,
  "nbformat_minor": 0,
  "metadata": {
    "colab": {
      "name": "Linear Regression.ipynb",
      "provenance": [],
      "collapsed_sections": [],
      "authorship_tag": "ABX9TyMGUVDC9YPVcWsn0uNU0dFh",
      "include_colab_link": true
    },
    "kernelspec": {
      "name": "python3",
      "display_name": "Python 3"
    },
    "language_info": {
      "name": "python"
    }
  },
  "cells": [
    {
      "cell_type": "markdown",
      "metadata": {
        "id": "view-in-github",
        "colab_type": "text"
      },
      "source": [
        "<a href=\"https://colab.research.google.com/github/benequith/Linear-Regression/blob/master/Linear_Regression.ipynb\" target=\"_parent\"><img src=\"https://colab.research.google.com/assets/colab-badge.svg\" alt=\"Open In Colab\"/></a>"
      ]
    },
    {
      "cell_type": "markdown",
      "source": [
        "# Multivariate Linear Regression"
      ],
      "metadata": {
        "id": "9Rla7fCml8hh"
      }
    },
    {
      "cell_type": "markdown",
      "source": [
        "Name: Soumyadip Ghosh <br>\n",
        "Stream: CSE-A <br>\n",
        "Roll Number: 1951007"
      ],
      "metadata": {
        "id": "1z2yl7tunQE3"
      }
    },
    {
      "cell_type": "markdown",
      "source": [
        "Importing the necessary libraries for working"
      ],
      "metadata": {
        "id": "B0CYFm5Zf1s3"
      }
    },
    {
      "cell_type": "code",
      "execution_count": null,
      "metadata": {
        "id": "1IpbeM9UrBVW"
      },
      "outputs": [],
      "source": [
        "import numpy as np\n",
        "import pandas as pd\n",
        "from sklearn.model_selection import train_test_split"
      ]
    },
    {
      "cell_type": "markdown",
      "source": [
        "Loading the dataset"
      ],
      "metadata": {
        "id": "DN14FZvCf7pN"
      }
    },
    {
      "cell_type": "code",
      "source": [
        "df= pd.read_excel('/content/Multivariate_Regression_data.xlsx')\n",
        "print(df.head())"
      ],
      "metadata": {
        "colab": {
          "base_uri": "https://localhost:8080/"
        },
        "id": "A_TC1zorrJ9D",
        "outputId": "86a654ca-1e39-4496-aa11-e24e92d962cf"
      },
      "execution_count": null,
      "outputs": [
        {
          "output_type": "stream",
          "name": "stdout",
          "text": [
            "         X1         X2          Y\n",
            "0  1.885940   3.556768  24.466473\n",
            "1  4.103744  16.840713  93.852058\n",
            "2  0.911818   0.831413   9.126872\n",
            "3  0.379908   0.144330   6.863085\n",
            "4  1.057826   1.118996  12.850449\n"
          ]
        }
      ]
    },
    {
      "cell_type": "markdown",
      "source": [
        "Checking for any NULL values for Feature Engineering"
      ],
      "metadata": {
        "id": "zotQhGuefsYB"
      }
    },
    {
      "cell_type": "code",
      "source": [
        "df.isnull().sum()"
      ],
      "metadata": {
        "colab": {
          "base_uri": "https://localhost:8080/"
        },
        "id": "hRoi5Tc2rk8y",
        "outputId": "45d3f399-4246-4dd7-d620-dcc42f44baae"
      },
      "execution_count": null,
      "outputs": [
        {
          "output_type": "execute_result",
          "data": {
            "text/plain": [
              "X1    0\n",
              "X2    0\n",
              "Y     0\n",
              "dtype: int64"
            ]
          },
          "metadata": {},
          "execution_count": 5
        }
      ]
    },
    {
      "cell_type": "markdown",
      "source": [
        "Checking for statistics of the data for getting the total samples and relevant information"
      ],
      "metadata": {
        "id": "B5LUz6-sgBiq"
      }
    },
    {
      "cell_type": "code",
      "source": [
        "df.describe()"
      ],
      "metadata": {
        "colab": {
          "base_uri": "https://localhost:8080/",
          "height": 300
        },
        "id": "Mi1sS68rr4Jm",
        "outputId": "5618fcf5-cc55-42eb-9bca-9d128416750f"
      },
      "execution_count": null,
      "outputs": [
        {
          "output_type": "execute_result",
          "data": {
            "text/plain": [
              "               X1          X2           Y\n",
              "count  120.000000  120.000000  120.000000\n",
              "mean     2.436326    7.885162   46.402454\n",
              "std      1.402090    6.889864   35.423498\n",
              "min      0.008696    0.000076    2.453955\n",
              "25%      1.201271    1.443868   12.661124\n",
              "50%      2.567666    6.592913   41.694937\n",
              "75%      3.544140   12.560947   69.890880\n",
              "max      4.998384   24.983839  133.272302"
            ],
            "text/html": [
              "\n",
              "  <div id=\"df-533bfccd-9328-4d38-9418-0a6a8a9cab1b\">\n",
              "    <div class=\"colab-df-container\">\n",
              "      <div>\n",
              "<style scoped>\n",
              "    .dataframe tbody tr th:only-of-type {\n",
              "        vertical-align: middle;\n",
              "    }\n",
              "\n",
              "    .dataframe tbody tr th {\n",
              "        vertical-align: top;\n",
              "    }\n",
              "\n",
              "    .dataframe thead th {\n",
              "        text-align: right;\n",
              "    }\n",
              "</style>\n",
              "<table border=\"1\" class=\"dataframe\">\n",
              "  <thead>\n",
              "    <tr style=\"text-align: right;\">\n",
              "      <th></th>\n",
              "      <th>X1</th>\n",
              "      <th>X2</th>\n",
              "      <th>Y</th>\n",
              "    </tr>\n",
              "  </thead>\n",
              "  <tbody>\n",
              "    <tr>\n",
              "      <th>count</th>\n",
              "      <td>120.000000</td>\n",
              "      <td>120.000000</td>\n",
              "      <td>120.000000</td>\n",
              "    </tr>\n",
              "    <tr>\n",
              "      <th>mean</th>\n",
              "      <td>2.436326</td>\n",
              "      <td>7.885162</td>\n",
              "      <td>46.402454</td>\n",
              "    </tr>\n",
              "    <tr>\n",
              "      <th>std</th>\n",
              "      <td>1.402090</td>\n",
              "      <td>6.889864</td>\n",
              "      <td>35.423498</td>\n",
              "    </tr>\n",
              "    <tr>\n",
              "      <th>min</th>\n",
              "      <td>0.008696</td>\n",
              "      <td>0.000076</td>\n",
              "      <td>2.453955</td>\n",
              "    </tr>\n",
              "    <tr>\n",
              "      <th>25%</th>\n",
              "      <td>1.201271</td>\n",
              "      <td>1.443868</td>\n",
              "      <td>12.661124</td>\n",
              "    </tr>\n",
              "    <tr>\n",
              "      <th>50%</th>\n",
              "      <td>2.567666</td>\n",
              "      <td>6.592913</td>\n",
              "      <td>41.694937</td>\n",
              "    </tr>\n",
              "    <tr>\n",
              "      <th>75%</th>\n",
              "      <td>3.544140</td>\n",
              "      <td>12.560947</td>\n",
              "      <td>69.890880</td>\n",
              "    </tr>\n",
              "    <tr>\n",
              "      <th>max</th>\n",
              "      <td>4.998384</td>\n",
              "      <td>24.983839</td>\n",
              "      <td>133.272302</td>\n",
              "    </tr>\n",
              "  </tbody>\n",
              "</table>\n",
              "</div>\n",
              "      <button class=\"colab-df-convert\" onclick=\"convertToInteractive('df-533bfccd-9328-4d38-9418-0a6a8a9cab1b')\"\n",
              "              title=\"Convert this dataframe to an interactive table.\"\n",
              "              style=\"display:none;\">\n",
              "        \n",
              "  <svg xmlns=\"http://www.w3.org/2000/svg\" height=\"24px\"viewBox=\"0 0 24 24\"\n",
              "       width=\"24px\">\n",
              "    <path d=\"M0 0h24v24H0V0z\" fill=\"none\"/>\n",
              "    <path d=\"M18.56 5.44l.94 2.06.94-2.06 2.06-.94-2.06-.94-.94-2.06-.94 2.06-2.06.94zm-11 1L8.5 8.5l.94-2.06 2.06-.94-2.06-.94L8.5 2.5l-.94 2.06-2.06.94zm10 10l.94 2.06.94-2.06 2.06-.94-2.06-.94-.94-2.06-.94 2.06-2.06.94z\"/><path d=\"M17.41 7.96l-1.37-1.37c-.4-.4-.92-.59-1.43-.59-.52 0-1.04.2-1.43.59L10.3 9.45l-7.72 7.72c-.78.78-.78 2.05 0 2.83L4 21.41c.39.39.9.59 1.41.59.51 0 1.02-.2 1.41-.59l7.78-7.78 2.81-2.81c.8-.78.8-2.07 0-2.86zM5.41 20L4 18.59l7.72-7.72 1.47 1.35L5.41 20z\"/>\n",
              "  </svg>\n",
              "      </button>\n",
              "      \n",
              "  <style>\n",
              "    .colab-df-container {\n",
              "      display:flex;\n",
              "      flex-wrap:wrap;\n",
              "      gap: 12px;\n",
              "    }\n",
              "\n",
              "    .colab-df-convert {\n",
              "      background-color: #E8F0FE;\n",
              "      border: none;\n",
              "      border-radius: 50%;\n",
              "      cursor: pointer;\n",
              "      display: none;\n",
              "      fill: #1967D2;\n",
              "      height: 32px;\n",
              "      padding: 0 0 0 0;\n",
              "      width: 32px;\n",
              "    }\n",
              "\n",
              "    .colab-df-convert:hover {\n",
              "      background-color: #E2EBFA;\n",
              "      box-shadow: 0px 1px 2px rgba(60, 64, 67, 0.3), 0px 1px 3px 1px rgba(60, 64, 67, 0.15);\n",
              "      fill: #174EA6;\n",
              "    }\n",
              "\n",
              "    [theme=dark] .colab-df-convert {\n",
              "      background-color: #3B4455;\n",
              "      fill: #D2E3FC;\n",
              "    }\n",
              "\n",
              "    [theme=dark] .colab-df-convert:hover {\n",
              "      background-color: #434B5C;\n",
              "      box-shadow: 0px 1px 3px 1px rgba(0, 0, 0, 0.15);\n",
              "      filter: drop-shadow(0px 1px 2px rgba(0, 0, 0, 0.3));\n",
              "      fill: #FFFFFF;\n",
              "    }\n",
              "  </style>\n",
              "\n",
              "      <script>\n",
              "        const buttonEl =\n",
              "          document.querySelector('#df-533bfccd-9328-4d38-9418-0a6a8a9cab1b button.colab-df-convert');\n",
              "        buttonEl.style.display =\n",
              "          google.colab.kernel.accessAllowed ? 'block' : 'none';\n",
              "\n",
              "        async function convertToInteractive(key) {\n",
              "          const element = document.querySelector('#df-533bfccd-9328-4d38-9418-0a6a8a9cab1b');\n",
              "          const dataTable =\n",
              "            await google.colab.kernel.invokeFunction('convertToInteractive',\n",
              "                                                     [key], {});\n",
              "          if (!dataTable) return;\n",
              "\n",
              "          const docLinkHtml = 'Like what you see? Visit the ' +\n",
              "            '<a target=\"_blank\" href=https://colab.research.google.com/notebooks/data_table.ipynb>data table notebook</a>'\n",
              "            + ' to learn more about interactive tables.';\n",
              "          element.innerHTML = '';\n",
              "          dataTable['output_type'] = 'display_data';\n",
              "          await google.colab.output.renderOutput(dataTable, element);\n",
              "          const docLink = document.createElement('div');\n",
              "          docLink.innerHTML = docLinkHtml;\n",
              "          element.appendChild(docLink);\n",
              "        }\n",
              "      </script>\n",
              "    </div>\n",
              "  </div>\n",
              "  "
            ]
          },
          "metadata": {},
          "execution_count": 6
        }
      ]
    },
    {
      "cell_type": "markdown",
      "source": [
        "Seperating the features from the target in the Dataframe"
      ],
      "metadata": {
        "id": "TaKwVjyVjBS2"
      }
    },
    {
      "cell_type": "code",
      "source": [
        "X= df.drop('Y', axis= 1)\n",
        "Y= df['Y']"
      ],
      "metadata": {
        "id": "kUT-iQlLr8SO"
      },
      "execution_count": null,
      "outputs": []
    },
    {
      "cell_type": "markdown",
      "source": [
        "Splitting the data between Train and Test sets"
      ],
      "metadata": {
        "id": "hhEl1feHjKu3"
      }
    },
    {
      "cell_type": "code",
      "source": [
        "X_train, X_test, Y_train, Y_test= train_test_split(X,Y, test_size= 0.2, random_state= 2)"
      ],
      "metadata": {
        "id": "iVNvXBFPwVhI"
      },
      "execution_count": null,
      "outputs": []
    },
    {
      "cell_type": "code",
      "source": [
        "m= X_train.shape[0]\n",
        "n= X_train.shape[1]\n",
        "\n",
        "print(\"Number of samples in train test: {}\".format(m))\n",
        "print(\"Number of features in train test: {}\".format(n))"
      ],
      "metadata": {
        "colab": {
          "base_uri": "https://localhost:8080/"
        },
        "id": "UUG5gMTYwr2_",
        "outputId": "6ab74fcf-30e3-439c-dc91-6ae9a1f96a81"
      },
      "execution_count": null,
      "outputs": [
        {
          "output_type": "stream",
          "name": "stdout",
          "text": [
            "Number of samples in train test: 96\n",
            "Number of features in train test: 2\n"
          ]
        }
      ]
    },
    {
      "cell_type": "markdown",
      "source": [
        "Adding a column full of 1's to the data frame to represent w0 value"
      ],
      "metadata": {
        "id": "bKg1F9CejR23"
      }
    },
    {
      "cell_type": "code",
      "source": [
        "X_train_t= np.c_[np.ones((X_train.shape[0], 1)),X_train]\n",
        "X_test_t= np.c_[np.ones((X_test.shape[0], 1)),X_test]"
      ],
      "metadata": {
        "id": "s7P6IGdryxnC"
      },
      "execution_count": null,
      "outputs": []
    },
    {
      "cell_type": "markdown",
      "source": [
        "We know that the biases are obtained by: <br>\n",
        "W= (X transpose * X)^ -1 * (X transpose) * Y"
      ],
      "metadata": {
        "id": "46DiAG7ajvvI"
      }
    },
    {
      "cell_type": "code",
      "source": [
        "w= np.matmul(np.linalg.inv(np.matmul(X_train_t.T,X_train_t)), np.matmul(X_train_t.T,Y_train))"
      ],
      "metadata": {
        "id": "BT24HPoUORLm"
      },
      "execution_count": null,
      "outputs": []
    },
    {
      "cell_type": "code",
      "source": [
        "print(\"The coefficients / biases of the Features are:\")\n",
        "print(w)"
      ],
      "metadata": {
        "colab": {
          "base_uri": "https://localhost:8080/"
        },
        "id": "nCFv-u0HPuxQ",
        "outputId": "2ecb576d-5216-4977-e8d8-29336c123225"
      },
      "execution_count": null,
      "outputs": [
        {
          "output_type": "stream",
          "name": "stdout",
          "text": [
            "The coefficients / biases of the Features are:\n",
            "[3.19888171 3.0941673  4.5213886 ]\n"
          ]
        }
      ]
    },
    {
      "cell_type": "code",
      "source": [
        "Y_pred= np.matmul(X_test_t,w)\n",
        "mse= np.sum((Y_pred- Y_test)**2)/ Y_test.shape[0]\n",
        "print(\"The Mean Squared Error is {}\".format(mse))"
      ],
      "metadata": {
        "colab": {
          "base_uri": "https://localhost:8080/"
        },
        "id": "SBZTszI2QA8q",
        "outputId": "438b5212-8125-452b-b917-d85e9c0cfe57"
      },
      "execution_count": null,
      "outputs": [
        {
          "output_type": "stream",
          "name": "stdout",
          "text": [
            "The Mean Squared Error is 1.3811117634562635\n"
          ]
        }
      ]
    },
    {
      "cell_type": "code",
      "source": [
        "sst= np.sum((Y_pred- Y_test.mean())**2)/ Y_test.shape[0]\n",
        "R_squared= 1- (mse/sst)\n",
        "print(\"R-Squared score of the model: {}\".format(R_squared))"
      ],
      "metadata": {
        "colab": {
          "base_uri": "https://localhost:8080/"
        },
        "id": "Pr-jWbn9Ql8c",
        "outputId": "aca373b9-6fba-4387-e16e-18b9dac35a1c"
      },
      "execution_count": null,
      "outputs": [
        {
          "output_type": "stream",
          "name": "stdout",
          "text": [
            "R-Squared score of the model: 0.9986024381240254\n"
          ]
        }
      ]
    }
  ]
}